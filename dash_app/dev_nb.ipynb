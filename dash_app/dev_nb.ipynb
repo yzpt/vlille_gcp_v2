{
 "cells": [
  {
   "cell_type": "code",
   "execution_count": 1,
   "metadata": {},
   "outputs": [],
   "source": [
    "from dev_utils import get_file_structure"
   ]
  },
  {
   "cell_type": "code",
   "execution_count": 2,
   "metadata": {},
   "outputs": [
    {
     "name": "stdout",
     "output_type": "stream",
     "text": [
      "- dev_utils.py\n",
      "- assets/\n",
      "- main.py\n",
      "- src/\n",
      "    - pages/\n",
      "        - __init__.py\n",
      "    - data/\n",
      "        - models.py\n",
      "        - __init__.py\n",
      "    - utils/\n",
      "        - __init__.py\n",
      "    - __init__.py\n",
      "    - components/\n",
      "        - __init__.py\n",
      "        - layout.py\n",
      "- commands.sh\n",
      "- dev_nb.ipynb\n",
      "- config.py\n",
      "\n"
     ]
    }
   ],
   "source": [
    "print(get_file_structure('./'))"
   ]
  },
  {
   "cell_type": "code",
   "execution_count": 1,
   "metadata": {},
   "outputs": [
    {
     "name": "stdout",
     "output_type": "stream",
     "text": [
      "/home/yohann/projects/vlille_gcp_v2/dash_app\n"
     ]
    }
   ],
   "source": [
    "# get the currant path\n",
    "import os\n",
    "print(os.getcwd())"
   ]
  },
  {
   "cell_type": "code",
   "execution_count": 10,
   "metadata": {},
   "outputs": [],
   "source": [
    "import pandas as pd\n",
    "import os\n",
    "\n",
    "from src.services.bigquery import BigQueryService\n",
    "from src.data.models import Station, Record\n",
    "\n",
    "from config import Config\n",
    "\n",
    "os.environ['GOOGLE_APPLICATION_CREDENTIALS'] = Config.GOOGLE_CREDENTIALS\n",
    "\n",
    "bq = BigQueryService(Config.PROJECT, Config.DATASET, Config.TABLE_STATIONS)\n",
    "\n",
    "query = f\"\"\"\n",
    "SELECT * FROM `{Config.PROJECT}.{Config.DATASET}.{Config.TABLE_STATIONS}`\n",
    "\"\"\"\n",
    "\n",
    "stations = [Station(**row) for row in bq.query_data(query)]"
   ]
  },
  {
   "cell_type": "code",
   "execution_count": 11,
   "metadata": {},
   "outputs": [
    {
     "data": {
      "text/plain": [
       "type"
      ]
     },
     "execution_count": 11,
     "metadata": {},
     "output_type": "execute_result"
    }
   ],
   "source": [
    "type(Station)"
   ]
  },
  {
   "cell_type": "code",
   "execution_count": 12,
   "metadata": {},
   "outputs": [
    {
     "data": {
      "text/plain": [
       "{'id': 256,\n",
       " 'name': 'PONT DE NEUVILLE',\n",
       " 'adress': '301, RUE DU PONT DE NEUVILLE',\n",
       " 'city': 'TOURCOING',\n",
       " 'type': 'AVEC TPE',\n",
       " 'latitude': 50.73682,\n",
       " 'longitude': 3.1712308}"
      ]
     },
     "execution_count": 12,
     "metadata": {},
     "output_type": "execute_result"
    }
   ],
   "source": [
    "s = stations[0]\n",
    "s.__dict__"
   ]
  },
  {
   "cell_type": "code",
   "execution_count": null,
   "metadata": {},
   "outputs": [],
   "source": []
  }
 ],
 "metadata": {
  "kernelspec": {
   "display_name": "venv_vlille_dev",
   "language": "python",
   "name": "python3"
  },
  "language_info": {
   "codemirror_mode": {
    "name": "ipython",
    "version": 3
   },
   "file_extension": ".py",
   "mimetype": "text/x-python",
   "name": "python",
   "nbconvert_exporter": "python",
   "pygments_lexer": "ipython3",
   "version": "3.10.12"
  }
 },
 "nbformat": 4,
 "nbformat_minor": 2
}
