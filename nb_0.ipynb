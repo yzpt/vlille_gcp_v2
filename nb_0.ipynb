{
 "cells": [
  {
   "cell_type": "code",
   "execution_count": 10,
   "metadata": {},
   "outputs": [],
   "source": [
    "from google.cloud import bigquery\n",
    "import os\n",
    "\n",
    "from function.config import Config"
   ]
  },
  {
   "cell_type": "markdown",
   "metadata": {},
   "source": [
    "## Check data in BigQuery"
   ]
  },
  {
   "cell_type": "code",
   "execution_count": 16,
   "metadata": {},
   "outputs": [
    {
     "data": {
      "text/html": [
       "<div>\n",
       "<style scoped>\n",
       "    .dataframe tbody tr th:only-of-type {\n",
       "        vertical-align: middle;\n",
       "    }\n",
       "\n",
       "    .dataframe tbody tr th {\n",
       "        vertical-align: top;\n",
       "    }\n",
       "\n",
       "    .dataframe thead th {\n",
       "        text-align: right;\n",
       "    }\n",
       "</style>\n",
       "<table border=\"1\" class=\"dataframe\">\n",
       "  <thead>\n",
       "    <tr style=\"text-align: right;\">\n",
       "      <th></th>\n",
       "      <th>station_id</th>\n",
       "      <th>etat</th>\n",
       "      <th>nb_velos_dispo</th>\n",
       "      <th>nb_places_dispo</th>\n",
       "      <th>etat_connexion</th>\n",
       "      <th>derniere_maj</th>\n",
       "      <th>record_timestamp</th>\n",
       "    </tr>\n",
       "  </thead>\n",
       "  <tbody>\n",
       "    <tr>\n",
       "      <th>29</th>\n",
       "      <td>25</td>\n",
       "      <td>EN SERVICE</td>\n",
       "      <td>13</td>\n",
       "      <td>19</td>\n",
       "      <td>CONNECTÉ</td>\n",
       "      <td>2024-08-17 20:05:14.492000+00:00</td>\n",
       "      <td>2024-08-17 20:07:01+00:00</td>\n",
       "    </tr>\n",
       "    <tr>\n",
       "      <th>217</th>\n",
       "      <td>188</td>\n",
       "      <td>EN SERVICE</td>\n",
       "      <td>9</td>\n",
       "      <td>3</td>\n",
       "      <td>CONNECTÉ</td>\n",
       "      <td>2024-08-17 20:05:14.751000+00:00</td>\n",
       "      <td>2024-08-17 20:07:01+00:00</td>\n",
       "    </tr>\n",
       "    <tr>\n",
       "      <th>262</th>\n",
       "      <td>242</td>\n",
       "      <td>EN SERVICE</td>\n",
       "      <td>8</td>\n",
       "      <td>9</td>\n",
       "      <td>CONNECTÉ</td>\n",
       "      <td>2024-08-17 20:05:14.814000+00:00</td>\n",
       "      <td>2024-08-17 20:07:01+00:00</td>\n",
       "    </tr>\n",
       "    <tr>\n",
       "      <th>28</th>\n",
       "      <td>306</td>\n",
       "      <td>EN SERVICE</td>\n",
       "      <td>7</td>\n",
       "      <td>13</td>\n",
       "      <td>CONNECTÉ</td>\n",
       "      <td>2024-08-17 20:05:14.836000+00:00</td>\n",
       "      <td>2024-08-17 20:07:01+00:00</td>\n",
       "    </tr>\n",
       "    <tr>\n",
       "      <th>211</th>\n",
       "      <td>179</td>\n",
       "      <td>EN SERVICE</td>\n",
       "      <td>17</td>\n",
       "      <td>3</td>\n",
       "      <td>CONNECTÉ</td>\n",
       "      <td>2024-08-17 20:05:14.748000+00:00</td>\n",
       "      <td>2024-08-17 20:07:01+00:00</td>\n",
       "    </tr>\n",
       "  </tbody>\n",
       "</table>\n",
       "</div>"
      ],
      "text/plain": [
       "     station_id        etat  nb_velos_dispo  nb_places_dispo etat_connexion  \\\n",
       "29           25  EN SERVICE              13               19       CONNECTÉ   \n",
       "217         188  EN SERVICE               9                3       CONNECTÉ   \n",
       "262         242  EN SERVICE               8                9       CONNECTÉ   \n",
       "28          306  EN SERVICE               7               13       CONNECTÉ   \n",
       "211         179  EN SERVICE              17                3       CONNECTÉ   \n",
       "\n",
       "                        derniere_maj          record_timestamp  \n",
       "29  2024-08-17 20:05:14.492000+00:00 2024-08-17 20:07:01+00:00  \n",
       "217 2024-08-17 20:05:14.751000+00:00 2024-08-17 20:07:01+00:00  \n",
       "262 2024-08-17 20:05:14.814000+00:00 2024-08-17 20:07:01+00:00  \n",
       "28  2024-08-17 20:05:14.836000+00:00 2024-08-17 20:07:01+00:00  \n",
       "211 2024-08-17 20:05:14.748000+00:00 2024-08-17 20:07:01+00:00  "
      ]
     },
     "execution_count": 16,
     "metadata": {},
     "output_type": "execute_result"
    }
   ],
   "source": [
    "# Create a BigQuery client\n",
    "client = bigquery.Client()\n",
    "\n",
    "# request to check the data\n",
    "query = f\"\"\"\n",
    "WITH MaxTimestamp AS (\n",
    "    SELECT MAX(record_timestamp) AS max_timestamp\n",
    "    FROM `{Config.PROJECT_NAME}.{Config.DATASET_ID}.{Config.TABLE_ID}`\n",
    ")\n",
    "SELECT *\n",
    "FROM `{Config.PROJECT_NAME}.{Config.DATASET_ID}.{Config.TABLE_ID}`\n",
    "WHERE record_timestamp = (SELECT max_timestamp FROM MaxTimestamp)\n",
    "ORDER BY record_timestamp DESC\n",
    "\"\"\"\n",
    "\n",
    "query_job = client.query(query)\n",
    "df = query_job.to_dataframe()\n",
    "df.sample(5)"
   ]
  },
  {
   "cell_type": "markdown",
   "metadata": {},
   "source": [
    "## Populate 'stations' table"
   ]
  },
  {
   "cell_type": "code",
   "execution_count": 9,
   "metadata": {},
   "outputs": [
    {
     "data": {
      "text/plain": [
       "{'objectid': 184,\n",
       " 'nom': 'RUE DU PARC',\n",
       " 'adresse': '20 rue du Parc',\n",
       " 'code_insee': None,\n",
       " 'commune': 'La Madeleine',\n",
       " 'etat': 'EN SERVICE',\n",
       " 'type': 'AVEC TPE',\n",
       " 'nb_places_dispo': 8,\n",
       " 'nb_velos_dispo': 4,\n",
       " 'etat_connexion': 'CONNECTÉ',\n",
       " 'x': 3.0678,\n",
       " 'y': 50.651107,\n",
       " 'date_modification': '2024-08-17T20:05:14.750Z'}"
      ]
     },
     "execution_count": 9,
     "metadata": {},
     "output_type": "execute_result"
    }
   ],
   "source": [
    "from google.cloud import bigquery\n",
    "import requests\n",
    "import os\n",
    "import sys\n",
    "\n",
    "os.environ[\"GOOGLE_APPLICATION_CREDENTIALS\"] = \"function/key-vlille-gcp-etl.json\"\n",
    "project_id = \"vlille-gcp-etl\"\n",
    "dataset_id = \"vlille_dataset\"\n",
    "client = bigquery.Client()\n",
    "\n",
    "# Populate the stations table once with a query:\n",
    "url = \"https://data.lillemetropole.fr/geoserver/wfs?SERVICE=WFS&REQUEST=GetFeature&VERSION=2.0.0&TYPENAMES=dsp_ilevia%3Avlille_temps_reel&OUTPUTFORMAT=application%2Fjson\"\n",
    "response = requests.get(url)\n",
    "data = response.json()\n",
    "\n",
    "# Get the 42th station\n",
    "data['features'][42]['properties']"
   ]
  },
  {
   "cell_type": "code",
   "execution_count": 5,
   "metadata": {},
   "outputs": [
    {
     "name": "stdout",
     "output_type": "stream",
     "text": [
      "Station's rows inserted into table vlille-gcp-etl.vlille_dataset.stations\n"
     ]
    }
   ],
   "source": [
    "rows_to_insert = []\n",
    "for record in data[\"features\"]:\n",
    "    rows_to_insert.append(\n",
    "        (\n",
    "            record[\"properties\"][\"objectid\"], # id = objectid\n",
    "            record[\"properties\"][\"nom\"],\n",
    "            record[\"properties\"][\"adresse\"],\n",
    "            record[\"properties\"][\"commune\"],\n",
    "            record[\"properties\"][\"type\"],\n",
    "            record[\"geometry\"][\"coordinates\"][1],\n",
    "            record[\"geometry\"][\"coordinates\"][0],\n",
    "        )\n",
    "    )\n",
    "\n",
    "\n",
    "table_id = project_id + '.' + dataset_id + '.stations'\n",
    "try:\n",
    "    table = client.get_table(table_id)\n",
    "    client.insert_rows(table, rows_to_insert)\n",
    "    print(\"Station's rows inserted into table {}\".format(table_id))\n",
    "except Exception as e:\n",
    "    print(e)"
   ]
  }
 ],
 "metadata": {
  "kernelspec": {
   "display_name": "venv_vlille_dev",
   "language": "python",
   "name": "python3"
  },
  "language_info": {
   "codemirror_mode": {
    "name": "ipython",
    "version": 3
   },
   "file_extension": ".py",
   "mimetype": "text/x-python",
   "name": "python",
   "nbconvert_exporter": "python",
   "pygments_lexer": "ipython3",
   "version": "3.10.12"
  }
 },
 "nbformat": 4,
 "nbformat_minor": 2
}
