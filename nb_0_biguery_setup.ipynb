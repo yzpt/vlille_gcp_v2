{
 "cells": [
  {
   "cell_type": "markdown",
   "metadata": {},
   "source": [
    "# Creating and setup bigquery tables"
   ]
  },
  {
   "cell_type": "code",
   "execution_count": 1,
   "metadata": {},
   "outputs": [],
   "source": [
    "import pandas as pd\n",
    "import os\n",
    "\n",
    "from config import Config\n",
    "\n",
    "os.environ['GOOGLE_APPLICATION_CREDENTIALS'] = Config.GOOGLE_CREDENTIALS"
   ]
  },
  {
   "cell_type": "code",
   "execution_count": 2,
   "metadata": {},
   "outputs": [
    {
     "data": {
      "text/plain": [
       "mappingproxy({'__module__': 'config',\n",
       "              'PROJECT_ID': 'vlille-gcp-etl',\n",
       "              'DATASET_ID': 'vlille_dataset_v2',\n",
       "              'RECORDS_TABLE_ID': 'records',\n",
       "              'STATIONS_TABLE_ID': 'stations',\n",
       "              'GOOGLE_CREDENTIALS': 'key-vlille-gcp-etl.json',\n",
       "              'API_URL': 'https://data.lillemetropole.fr/geoserver/wfs?SERVICE=WFS&REQUEST=GetFeature&VERSION=2.0.0&TYPENAMES=dsp_ilevia%3Avlille_temps_reel&OUTPUTFORMAT=application%2Fjson',\n",
       "              'TIMEZONE': 'Europe/Paris',\n",
       "              '__dict__': <attribute '__dict__' of 'Config' objects>,\n",
       "              '__weakref__': <attribute '__weakref__' of 'Config' objects>,\n",
       "              '__doc__': None})"
      ]
     },
     "execution_count": 2,
     "metadata": {},
     "output_type": "execute_result"
    }
   ],
   "source": [
    "Config.__dict__"
   ]
  }
 ],
 "metadata": {
  "kernelspec": {
   "display_name": "venv_vlille_dev",
   "language": "python",
   "name": "python3"
  },
  "language_info": {
   "codemirror_mode": {
    "name": "ipython",
    "version": 3
   },
   "file_extension": ".py",
   "mimetype": "text/x-python",
   "name": "python",
   "nbconvert_exporter": "python",
   "pygments_lexer": "ipython3",
   "version": "3.10.12"
  }
 },
 "nbformat": 4,
 "nbformat_minor": 2
}
