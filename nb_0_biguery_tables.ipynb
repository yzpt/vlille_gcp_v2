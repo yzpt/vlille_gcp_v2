{
 "cells": [
  {
   "cell_type": "markdown",
   "metadata": {},
   "source": [
    "# Creating and setup bigquery tables"
   ]
  },
  {
   "cell_type": "code",
   "execution_count": 1,
   "metadata": {},
   "outputs": [],
   "source": [
    "import pandas as pd\n",
    "import os\n",
    "import requests\n",
    "\n",
    "from config import Config\n",
    "from dash_app.src.data.models import Station, Record\n",
    "\n",
    "os.environ['GOOGLE_APPLICATION_CREDENTIALS'] = Config.GOOGLE_CREDENTIALS"
   ]
  },
  {
   "cell_type": "code",
   "execution_count": 3,
   "metadata": {},
   "outputs": [
    {
     "data": {
      "text/plain": [
       "mappingproxy({'__module__': 'config',\n",
       "              'PROJECT_ID': 'vlille-gcp-dash-yzpt',\n",
       "              'DATASET_ID': 'vlille_dataset_v2',\n",
       "              'RECORDS_TABLE_ID': 'records',\n",
       "              'STATIONS_TABLE_ID': 'stations',\n",
       "              'REGION': 'europe-west9',\n",
       "              'GOOGLE_CREDENTIALS': 'key-vlille-gcp-dash-yzpt.json',\n",
       "              'API_URL': 'https://data.lillemetropole.fr/geoserver/wfs?SERVICE=WFS&REQUEST=GetFeature&VERSION=2.0.0&TYPENAMES=dsp_ilevia%3Avlille_temps_reel&OUTPUTFORMAT=application%2Fjson',\n",
       "              'TIMEZONE': 'Europe/Paris',\n",
       "              '__dict__': <attribute '__dict__' of 'Config' objects>,\n",
       "              '__weakref__': <attribute '__weakref__' of 'Config' objects>,\n",
       "              '__doc__': None})"
      ]
     },
     "execution_count": 3,
     "metadata": {},
     "output_type": "execute_result"
    }
   ],
   "source": [
    "Config.__dict__"
   ]
  },
  {
   "cell_type": "markdown",
   "metadata": {},
   "source": [
    "## Create the dataset"
   ]
  },
  {
   "cell_type": "code",
   "execution_count": 4,
   "metadata": {},
   "outputs": [
    {
     "name": "stdout",
     "output_type": "stream",
     "text": [
      "Created dataset vlille-gcp-dash-yzpt.vlille_dataset_v2\n"
     ]
    }
   ],
   "source": [
    "# Import the Google Cloud client library\n",
    "from google.cloud import bigquery\n",
    "\n",
    "# Construct a BigQuery client object.\n",
    "client = bigquery.Client()\n",
    "\n",
    "# Set the name of the dataset.\n",
    "dataset_id = Config.DATASET_ID\n",
    "\n",
    "# create a new dataset\n",
    "dataset = bigquery.Dataset(Config.PROJECT_ID + \".\" + dataset_id)\n",
    "dataset.location = Config.REGION\n",
    "dataset = client.create_dataset(dataset, timeout=30)\n",
    "\n",
    "print(\"Created dataset {}.{}\".format(client.project, dataset.dataset_id))\n"
   ]
  },
  {
   "cell_type": "markdown",
   "metadata": {},
   "source": [
    "## Create Stations table and populate it"
   ]
  },
  {
   "cell_type": "code",
   "execution_count": 5,
   "metadata": {},
   "outputs": [
    {
     "name": "stdout",
     "output_type": "stream",
     "text": [
      "Created table vlille-gcp-dash-yzpt.vlille_dataset_v2.stations\n"
     ]
    }
   ],
   "source": [
    "# Create a new table\n",
    "table = bigquery.Table(Config.PROJECT_ID + \".\" + Config.DATASET_ID + \".\" + Config.STATIONS_TABLE_ID)\n",
    "\n",
    "# Set the schema considering the dataclass below:\n",
    "# @dataclass\n",
    "# class Station:\n",
    "#     id: int\n",
    "#     name: str\n",
    "#     adress: str\n",
    "#     city: str\n",
    "#     type: str\n",
    "#     latitude: float\n",
    "#     longitude: float\n",
    "    \n",
    "schema = [\n",
    "    bigquery.SchemaField(\"id\", \"INTEGER\", mode=\"REQUIRED\"),\n",
    "    bigquery.SchemaField(\"name\", \"STRING\", mode=\"REQUIRED\"),\n",
    "    bigquery.SchemaField(\"adress\", \"STRING\", mode=\"REQUIRED\"),\n",
    "    bigquery.SchemaField(\"city\", \"STRING\", mode=\"REQUIRED\"),\n",
    "    bigquery.SchemaField(\"type\", \"STRING\", mode=\"REQUIRED\"),\n",
    "    bigquery.SchemaField(\"latitude\", \"FLOAT\", mode=\"REQUIRED\"),\n",
    "    bigquery.SchemaField(\"longitude\", \"FLOAT\", mode=\"REQUIRED\"),\n",
    "]\n",
    "\n",
    "table.schema = schema\n",
    "table = client.create_table(table)\n",
    "print(\"Created table {}.{}.{}\".format(table.project, table.dataset_id, table.table_id))"
   ]
  },
  {
   "cell_type": "code",
   "execution_count": 7,
   "metadata": {},
   "outputs": [
    {
     "data": {
      "text/plain": [
       "LoadJob<project=vlille-gcp-dash-yzpt, location=europe-west9, id=9a180f4f-abc5-4473-a21c-486f98daf15c>"
      ]
     },
     "execution_count": 7,
     "metadata": {},
     "output_type": "execute_result"
    }
   ],
   "source": [
    "## Query the source API to get the stations data\n",
    "\n",
    "url = Config.API_URL\n",
    "response = requests.get(url)\n",
    "data = response.json()\n",
    "\n",
    "stations = []\n",
    "for record in data['features']:\n",
    "    station = Station(\n",
    "        id=         record['properties']['objectid'],\n",
    "        name=       record['properties']['nom'],\n",
    "        adress=     record['properties']['adresse'],\n",
    "        city=       record['properties']['commune'],\n",
    "        type=       record['properties']['type'],\n",
    "        latitude=   record['properties']['x'],\n",
    "        longitude=  record['properties']['y']\n",
    "    )\n",
    "    stations.append(station)\n",
    "    \n",
    "df = pd.DataFrame(station.__dict__ for station in stations)\n",
    "df.sample(5)\n",
    "\n",
    "# insert into bigquery\n",
    "table = client.get_table(Config.PROJECT_ID + \".\" + Config.DATASET_ID + \".\" + Config.STATIONS_TABLE_ID)\n",
    "\n",
    "job = client.load_table_from_dataframe(df, table)\n",
    "job.result()  # Waits for the job to complete."
   ]
  },
  {
   "cell_type": "code",
   "execution_count": 8,
   "metadata": {},
   "outputs": [
    {
     "data": {
      "text/html": [
       "<div>\n",
       "<style scoped>\n",
       "    .dataframe tbody tr th:only-of-type {\n",
       "        vertical-align: middle;\n",
       "    }\n",
       "\n",
       "    .dataframe tbody tr th {\n",
       "        vertical-align: top;\n",
       "    }\n",
       "\n",
       "    .dataframe thead th {\n",
       "        text-align: right;\n",
       "    }\n",
       "</style>\n",
       "<table border=\"1\" class=\"dataframe\">\n",
       "  <thead>\n",
       "    <tr style=\"text-align: right;\">\n",
       "      <th></th>\n",
       "      <th>id</th>\n",
       "      <th>name</th>\n",
       "      <th>adress</th>\n",
       "      <th>city</th>\n",
       "      <th>type</th>\n",
       "      <th>latitude</th>\n",
       "      <th>longitude</th>\n",
       "    </tr>\n",
       "  </thead>\n",
       "  <tbody>\n",
       "    <tr>\n",
       "      <th>20</th>\n",
       "      <td>22</td>\n",
       "      <td>LOUISE DE BETTIGNIES</td>\n",
       "      <td>2 avenue du Peuple Belge</td>\n",
       "      <td>Lille</td>\n",
       "      <td>AVEC TPE</td>\n",
       "      <td>3.064974</td>\n",
       "      <td>50.641440</td>\n",
       "    </tr>\n",
       "    <tr>\n",
       "      <th>60</th>\n",
       "      <td>31</td>\n",
       "      <td>PONT NEUF</td>\n",
       "      <td>38 bis rue du Pont Neuf</td>\n",
       "      <td>Lille</td>\n",
       "      <td>AVEC TPE</td>\n",
       "      <td>3.062935</td>\n",
       "      <td>50.644264</td>\n",
       "    </tr>\n",
       "    <tr>\n",
       "      <th>283</th>\n",
       "      <td>185</td>\n",
       "      <td>SAINTE HÉLÈNE</td>\n",
       "      <td>48 rue Sainte-Hélène</td>\n",
       "      <td>Saint Andrè Lez Lille</td>\n",
       "      <td>AVEC TPE</td>\n",
       "      <td>3.056147</td>\n",
       "      <td>50.657220</td>\n",
       "    </tr>\n",
       "    <tr>\n",
       "      <th>144</th>\n",
       "      <td>202</td>\n",
       "      <td>PARC BARBIEUX</td>\n",
       "      <td>Avenue de Jussieu</td>\n",
       "      <td>Roubaix</td>\n",
       "      <td>AVEC TPE</td>\n",
       "      <td>3.162436</td>\n",
       "      <td>50.678038</td>\n",
       "    </tr>\n",
       "    <tr>\n",
       "      <th>52</th>\n",
       "      <td>20</td>\n",
       "      <td>N.D. DE LA TREILLE</td>\n",
       "      <td>11 place Gilleson</td>\n",
       "      <td>Lille</td>\n",
       "      <td>AVEC TPE</td>\n",
       "      <td>3.062053</td>\n",
       "      <td>50.640385</td>\n",
       "    </tr>\n",
       "  </tbody>\n",
       "</table>\n",
       "</div>"
      ],
      "text/plain": [
       "      id                  name                    adress  \\\n",
       "20    22  LOUISE DE BETTIGNIES  2 avenue du Peuple Belge   \n",
       "60    31             PONT NEUF   38 bis rue du Pont Neuf   \n",
       "283  185         SAINTE HÉLÈNE      48 rue Sainte-Hélène   \n",
       "144  202         PARC BARBIEUX         Avenue de Jussieu   \n",
       "52    20    N.D. DE LA TREILLE         11 place Gilleson   \n",
       "\n",
       "                      city      type  latitude  longitude  \n",
       "20                   Lille  AVEC TPE  3.064974  50.641440  \n",
       "60                   Lille  AVEC TPE  3.062935  50.644264  \n",
       "283  Saint Andrè Lez Lille  AVEC TPE  3.056147  50.657220  \n",
       "144                Roubaix  AVEC TPE  3.162436  50.678038  \n",
       "52                   Lille  AVEC TPE  3.062053  50.640385  "
      ]
     },
     "execution_count": 8,
     "metadata": {},
     "output_type": "execute_result"
    }
   ],
   "source": [
    "# Query the table to check the data\n",
    "query = f\"\"\"\n",
    "    SELECT *\n",
    "    FROM `{Config.PROJECT_ID}.{Config.DATASET_ID}.{Config.STATIONS_TABLE_ID}`\n",
    "\"\"\"\n",
    "\n",
    "query_job = client.query(query)\n",
    "df = query_job.to_dataframe()\n",
    "df.sample(5)"
   ]
  },
  {
   "cell_type": "code",
   "execution_count": 9,
   "metadata": {},
   "outputs": [
    {
     "name": "stdout",
     "output_type": "stream",
     "text": [
      "289 stations inserted.\n"
     ]
    }
   ],
   "source": [
    "print(len(df), \"stations inserted.\")"
   ]
  },
  {
   "cell_type": "markdown",
   "metadata": {},
   "source": [
    "## Create the records table"
   ]
  },
  {
   "cell_type": "code",
   "execution_count": 11,
   "metadata": {},
   "outputs": [
    {
     "name": "stdout",
     "output_type": "stream",
     "text": [
      "Created table vlille-gcp-dash-yzpt.vlille_dataset_v2.records\n"
     ]
    }
   ],
   "source": [
    "# create a new table\n",
    "table = bigquery.Table(Config.PROJECT_ID + \".\" + Config.DATASET_ID + \".\" + Config.RECORDS_TABLE_ID)\n",
    "\n",
    "# Set the schema considering the dataclass below:\n",
    "# @dataclass\n",
    "# class Record:\n",
    "#     station_id: int\n",
    "#     state: str\n",
    "#     available_bikes: int\n",
    "#     available_places: int\n",
    "#     connexion_state: str\n",
    "#     last_update: str\n",
    "#     record_timestamp: str\n",
    "\n",
    "schema = [\n",
    "    bigquery.SchemaField(\"station_id\", \"INTEGER\", mode=\"REQUIRED\"),\n",
    "    bigquery.SchemaField(\"state\", \"STRING\", mode=\"REQUIRED\"),\n",
    "    bigquery.SchemaField(\"available_bikes\", \"INTEGER\", mode=\"REQUIRED\"),\n",
    "    bigquery.SchemaField(\"available_places\", \"INTEGER\", mode=\"REQUIRED\"),\n",
    "    bigquery.SchemaField(\"connexion_state\", \"STRING\", mode=\"REQUIRED\"),\n",
    "    bigquery.SchemaField(\"last_update\", \"STRING\", mode=\"REQUIRED\"),\n",
    "    bigquery.SchemaField(\"record_timestamp\", \"STRING\", mode=\"REQUIRED\"),\n",
    "]\n",
    "\n",
    "table.schema = schema\n",
    "table = client.create_table(table)\n",
    "print(\"Created table {}.{}.{}\".format(table.project, table.dataset_id, table.table_id))"
   ]
  }
 ],
 "metadata": {
  "kernelspec": {
   "display_name": "venv_vlille_dev",
   "language": "python",
   "name": "python3"
  },
  "language_info": {
   "codemirror_mode": {
    "name": "ipython",
    "version": 3
   },
   "file_extension": ".py",
   "mimetype": "text/x-python",
   "name": "python",
   "nbconvert_exporter": "python",
   "pygments_lexer": "ipython3",
   "version": "3.10.12"
  }
 },
 "nbformat": 4,
 "nbformat_minor": 2
}
